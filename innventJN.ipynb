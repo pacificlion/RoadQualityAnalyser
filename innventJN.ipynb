{
 "cells": [
  {
   "cell_type": "markdown",
   "metadata": {},
   "source": [
    "# Innvent reading data"
   ]
  },
  {
   "cell_type": "markdown",
   "metadata": {},
   "source": [
    "## Import necessary libraries"
   ]
  },
  {
   "cell_type": "code",
   "execution_count": 1,
   "metadata": {},
   "outputs": [],
   "source": [
    "import pandas as pd\n",
    "import numpy as np\n",
    "from sklearn import linear_model\n",
    "from sklearn.linear_model import LogisticRegression\n",
    "from sklearn.metrics import mean_squared_error\n",
    "import matplotlib.pyplot as plt\n",
    "import seaborn as sns\n",
    "from sklearn.metrics import confusion_matrix"
   ]
  },
  {
   "cell_type": "markdown",
   "metadata": {},
   "source": [
    "## utility method for transforming dataframe columns lat and long"
   ]
  },
  {
   "cell_type": "code",
   "execution_count": 2,
   "metadata": {},
   "outputs": [],
   "source": [
    "PRECISION_DECIMAL = 5\n",
    "def transform_latlong(dataframe, precision=PRECISION_DECIMAL):\n",
    "    dataframe['lat'] = dataframe['lat'].round(decimals = precision)\n",
    "    dataframe['long'] = dataframe['long'].round(decimals = precision)\n",
    "    dataframe['lat'] = dataframe['lat'].astype(str)\n",
    "    dataframe['long'] = dataframe['long'].astype(str)\n",
    "    \n",
    "    return dataframe"
   ]
  },
  {
   "cell_type": "markdown",
   "metadata": {},
   "source": [
    "## read data"
   ]
  },
  {
   "cell_type": "code",
   "execution_count": 3,
   "metadata": {},
   "outputs": [
    {
     "name": "stdout",
     "output_type": "stream",
     "text": [
      "(3367, 3)\n",
      "         LA       lat      long\n",
      "0 -0.155832  12.98093  77.71713\n",
      "1  0.022970  12.98093  77.71713\n",
      "2 -0.123465  12.98093  77.71713\n",
      "3 -0.279197  12.98093  77.71713\n",
      "4 -0.020304  12.98093  77.71713\n",
      "(3367, 3)\n",
      "         LA       lat      long\n",
      "0 -0.155832  12.98093  77.71713\n",
      "1  0.022970  12.98093  77.71713\n",
      "2 -0.123465  12.98093  77.71713\n",
      "3 -0.279197  12.98093  77.71713\n",
      "4 -0.020304  12.98093  77.71713\n",
      "                LA\n",
      "count  3367.000000\n",
      "mean     -0.006540\n",
      "std       0.391536\n",
      "min      -5.561642\n",
      "25%      -0.067112\n",
      "50%      -0.002026\n",
      "75%       0.048813\n",
      "max       4.961407\n",
      "(333, 3)\n",
      "        lat      long        LA\n",
      "0  12.98092  77.71712  0.000000\n",
      "1  12.98093  77.71712 -0.041583\n",
      "2  12.98093  77.71713  0.243773\n",
      "3  12.98095  77.71712 -0.259265\n",
      "4   12.9811  77.71714  0.164086\n",
      "               LA\n",
      "count  333.000000\n",
      "mean    -0.000140\n",
      "std      0.174258\n",
      "min     -1.099107\n",
      "25%     -0.065589\n",
      "50%      0.004843\n",
      "75%      0.069092\n",
      "max      0.761938\n"
     ]
    }
   ],
   "source": [
    "df = pd.read_csv('innvent/2/reading.txt',float_precision='round_trip', usecols=[0,1,2], names=['LA','lat','long'], header=None)\n",
    "\n",
    "df = transform_latlong(df, PRECISION_DECIMAL)\n",
    "\n",
    "print(df.shape)\n",
    "print(df.head())\n",
    "\n",
    "print(df.shape)\n",
    "print(df.head())\n",
    "print(df.describe())\n",
    "df = df.groupby(['lat','long'], as_index=False)['LA'].mean()\n",
    "df['LA'] = df['LA'].diff()\n",
    "df['LA'].fillna(0, inplace=True)\n",
    "\n",
    "print(df.shape)\n",
    "print(df.head())\n",
    "print(df.describe())"
   ]
  },
  {
   "cell_type": "markdown",
   "metadata": {},
   "source": [
    "## read true pothole data"
   ]
  },
  {
   "cell_type": "code",
   "execution_count": 4,
   "metadata": {},
   "outputs": [
    {
     "name": "stdout",
     "output_type": "stream",
     "text": [
      "(45, 3)\n",
      "        lat      long  class\n",
      "0  12.98183  77.71735      1\n",
      "1    12.982  77.71745      1\n",
      "2  12.98209  77.71745      1\n",
      "3  12.98212  77.71745      1\n",
      "4  12.98235  77.71771      1\n",
      "(333, 4)\n",
      "        lat      long        LA  class\n",
      "0  12.98092  77.71712  0.000000    NaN\n",
      "1  12.98093  77.71712 -0.041583    NaN\n",
      "2  12.98093  77.71713  0.243773    NaN\n",
      "3  12.98095  77.71712 -0.259265    NaN\n",
      "4   12.9811  77.71714  0.164086    NaN\n"
     ]
    }
   ],
   "source": [
    "gpsdf = pd.read_csv('innvent/2/gps.txt', float_precision='round_trip',usecols=[0,1], names=['lat','long'], header=None)\n",
    "gpsdf['class']=1\n",
    "gpsdf = transform_latlong(gpsdf, PRECISION_DECIMAL)\n",
    "\n",
    "gpsdf.groupby(['lat','long'], as_index=False)\n",
    "print(gpsdf.shape)\n",
    "print(gpsdf.head())\n",
    "\n",
    "resultdf = pd.merge(df, gpsdf, on=['lat','long'], how='left')\n",
    "print(resultdf.shape)\n",
    "print(resultdf.head())"
   ]
  },
  {
   "cell_type": "markdown",
   "metadata": {},
   "source": [
    "## Replicate pothole data to balance pothole classes"
   ]
  },
  {
   "cell_type": "code",
   "execution_count": 5,
   "metadata": {},
   "outputs": [
    {
     "name": "stdout",
     "output_type": "stream",
     "text": [
      "mydf\n",
      "(1, 4)\n",
      "         lat      long       LA  class\n",
      "41  12.98235  77.71771  0.08331    1.0\n",
      "166\n",
      "newdf\n",
      "(166, 4)\n",
      "          lat      long       LA  class\n",
      "0    12.98235  77.71771  0.08331    1.0\n",
      "1    12.98235  77.71771  0.08331    1.0\n",
      "2    12.98235  77.71771  0.08331    1.0\n",
      "3    12.98235  77.71771  0.08331    1.0\n",
      "4    12.98235  77.71771  0.08331    1.0\n",
      "5    12.98235  77.71771  0.08331    1.0\n",
      "6    12.98235  77.71771  0.08331    1.0\n",
      "7    12.98235  77.71771  0.08331    1.0\n",
      "8    12.98235  77.71771  0.08331    1.0\n",
      "9    12.98235  77.71771  0.08331    1.0\n",
      "10   12.98235  77.71771  0.08331    1.0\n",
      "11   12.98235  77.71771  0.08331    1.0\n",
      "12   12.98235  77.71771  0.08331    1.0\n",
      "13   12.98235  77.71771  0.08331    1.0\n",
      "14   12.98235  77.71771  0.08331    1.0\n",
      "15   12.98235  77.71771  0.08331    1.0\n",
      "16   12.98235  77.71771  0.08331    1.0\n",
      "17   12.98235  77.71771  0.08331    1.0\n",
      "18   12.98235  77.71771  0.08331    1.0\n",
      "19   12.98235  77.71771  0.08331    1.0\n",
      "20   12.98235  77.71771  0.08331    1.0\n",
      "21   12.98235  77.71771  0.08331    1.0\n",
      "22   12.98235  77.71771  0.08331    1.0\n",
      "23   12.98235  77.71771  0.08331    1.0\n",
      "24   12.98235  77.71771  0.08331    1.0\n",
      "25   12.98235  77.71771  0.08331    1.0\n",
      "26   12.98235  77.71771  0.08331    1.0\n",
      "27   12.98235  77.71771  0.08331    1.0\n",
      "28   12.98235  77.71771  0.08331    1.0\n",
      "29   12.98235  77.71771  0.08331    1.0\n",
      "..        ...       ...      ...    ...\n",
      "136  12.98235  77.71771  0.08331    1.0\n",
      "137  12.98235  77.71771  0.08331    1.0\n",
      "138  12.98235  77.71771  0.08331    1.0\n",
      "139  12.98235  77.71771  0.08331    1.0\n",
      "140  12.98235  77.71771  0.08331    1.0\n",
      "141  12.98235  77.71771  0.08331    1.0\n",
      "142  12.98235  77.71771  0.08331    1.0\n",
      "143  12.98235  77.71771  0.08331    1.0\n",
      "144  12.98235  77.71771  0.08331    1.0\n",
      "145  12.98235  77.71771  0.08331    1.0\n",
      "146  12.98235  77.71771  0.08331    1.0\n",
      "147  12.98235  77.71771  0.08331    1.0\n",
      "148  12.98235  77.71771  0.08331    1.0\n",
      "149  12.98235  77.71771  0.08331    1.0\n",
      "150  12.98235  77.71771  0.08331    1.0\n",
      "151  12.98235  77.71771  0.08331    1.0\n",
      "152  12.98235  77.71771  0.08331    1.0\n",
      "153  12.98235  77.71771  0.08331    1.0\n",
      "154  12.98235  77.71771  0.08331    1.0\n",
      "155  12.98235  77.71771  0.08331    1.0\n",
      "156  12.98235  77.71771  0.08331    1.0\n",
      "157  12.98235  77.71771  0.08331    1.0\n",
      "158  12.98235  77.71771  0.08331    1.0\n",
      "159  12.98235  77.71771  0.08331    1.0\n",
      "160  12.98235  77.71771  0.08331    1.0\n",
      "161  12.98235  77.71771  0.08331    1.0\n",
      "162  12.98235  77.71771  0.08331    1.0\n",
      "163  12.98235  77.71771  0.08331    1.0\n",
      "164  12.98235  77.71771  0.08331    1.0\n",
      "165  12.98235  77.71771  0.08331    1.0\n",
      "\n",
      "[166 rows x 4 columns]\n"
     ]
    }
   ],
   "source": [
    "mydf=resultdf.loc[resultdf['class'] == 1.0]\n",
    "print(\"mydf\")\n",
    "print(mydf.shape)\n",
    "print(mydf)\n",
    "times_to_repeat = int(len(resultdf.index)/(len(mydf.index)+1))\n",
    "print(times_to_repeat)\n",
    "# newdf = pd.DataFrame(np.repeat(mydf.values,times_to_repeat-1,axis=0))\n",
    "mydf=pd.concat([mydf]*times_to_repeat, ignore_index=True)\n",
    "print(\"newdf\")\n",
    "print(mydf.shape)\n",
    "print(mydf)\n"
   ]
  },
  {
   "cell_type": "markdown",
   "metadata": {},
   "source": [
    "## visualise the merged dataframe"
   ]
  },
  {
   "cell_type": "code",
   "execution_count": 6,
   "metadata": {},
   "outputs": [
    {
     "name": "stdout",
     "output_type": "stream",
     "text": [
      "(499, 4)\n",
      "        lat      long        LA  class\n",
      "0  12.98092  77.71712  0.000000    0.0\n",
      "1  12.98093  77.71712 -0.041583    0.0\n",
      "2  12.98093  77.71713  0.243773    0.0\n",
      "3  12.98095  77.71712 -0.259265    0.0\n",
      "4   12.9811  77.71714  0.164086    0.0\n",
      "               LA       class\n",
      "count  499.000000  499.000000\n",
      "mean     0.027621    0.334669\n",
      "std      0.147624    0.472348\n",
      "min     -1.099107    0.000000\n",
      "25%     -0.014790    0.000000\n",
      "50%      0.069092    0.000000\n",
      "75%      0.083310    1.000000\n",
      "max      0.761938    1.000000\n"
     ]
    }
   ],
   "source": [
    "resultdf=resultdf.append(mydf,ignore_index=True)\n",
    "resultdf['class'].fillna(0, inplace=True)\n",
    "\n",
    "print(resultdf.shape)\n",
    "print(resultdf.head())\n",
    "print(resultdf.describe())"
   ]
  },
  {
   "cell_type": "markdown",
   "metadata": {},
   "source": [
    "## split data into test and train"
   ]
  },
  {
   "cell_type": "code",
   "execution_count": 7,
   "metadata": {},
   "outputs": [
    {
     "name": "stdout",
     "output_type": "stream",
     "text": [
      "          lat      long        LA\n",
      "90   12.98409  77.71853 -0.539767\n",
      "254  12.98846  77.71846 -0.009068\n",
      "283   12.9888  77.71834  0.016987\n",
      "444  12.98235  77.71771  0.083310\n",
      "474  12.98235  77.71771  0.083310\n"
     ]
    }
   ],
   "source": [
    "column_names = ['class']\n",
    "train_dataset = resultdf.sample(frac=0.8,random_state=0)\n",
    "test_dataset = resultdf.drop(train_dataset.index)\n",
    "train_labels = train_dataset[column_names]\n",
    "test_labels = test_dataset[column_names]\n",
    "\n",
    "train_dataset = train_dataset.drop(column_names, axis=1)\n",
    "test_dataset = test_dataset.drop(column_names, axis=1)\n",
    "print(train_dataset.head())\n"
   ]
  },
  {
   "cell_type": "markdown",
   "metadata": {},
   "source": [
    "## train my model"
   ]
  },
  {
   "cell_type": "code",
   "execution_count": 8,
   "metadata": {},
   "outputs": [
    {
     "name": "stderr",
     "output_type": "stream",
     "text": [
      "C:\\Users\\i341494\\AppData\\Local\\Continuum\\anaconda3\\lib\\site-packages\\sklearn\\utils\\validation.py:761: DataConversionWarning: A column-vector y was passed when a 1d array was expected. Please change the shape of y to (n_samples, ), for example using ravel().\n",
      "  y = column_or_1d(y, warn=True)\n"
     ]
    },
    {
     "data": {
      "text/plain": [
       "LogisticRegression(C=1.0, class_weight=None, dual=False, fit_intercept=True,\n",
       "          intercept_scaling=1, max_iter=100, multi_class='multinomial',\n",
       "          n_jobs=None, penalty='l2', random_state=0, solver='lbfgs',\n",
       "          tol=0.0001, verbose=0, warm_start=False)"
      ]
     },
     "execution_count": 8,
     "metadata": {},
     "output_type": "execute_result"
    }
   ],
   "source": [
    "x_values = train_dataset[['LA']]\n",
    "y_values = train_labels[['class']]\n",
    "\n",
    "clf = LogisticRegression(random_state=0, solver='lbfgs',multi_class='multinomial')\n",
    "clf.fit(x_values, y_values)"
   ]
  },
  {
   "cell_type": "markdown",
   "metadata": {},
   "source": [
    "## calculate mean squared errors"
   ]
  },
  {
   "cell_type": "code",
   "execution_count": 9,
   "metadata": {},
   "outputs": [
    {
     "name": "stdout",
     "output_type": "stream",
     "text": [
      "0.58\n",
      "[[251  18]\n",
      " [130   0]]\n"
     ]
    }
   ],
   "source": [
    "y_pred =  clf.predict(x_values)\n",
    "print(clf.score(test_dataset[['LA']], test_labels[['class']]))\n",
    "cm = confusion_matrix(y_values, y_pred)\n",
    "print(cm)"
   ]
  },
  {
   "cell_type": "markdown",
   "metadata": {},
   "source": [
    "## visualize results"
   ]
  },
  {
   "cell_type": "code",
   "execution_count": 10,
   "metadata": {},
   "outputs": [
    {
     "name": "stdout",
     "output_type": "stream",
     "text": [
      "               LA\n",
      "count  100.000000\n",
      "mean     0.045161\n",
      "std      0.156871\n",
      "min     -0.435947\n",
      "25%     -0.009707\n",
      "50%      0.083310\n",
      "75%      0.083310\n",
      "max      0.761938\n"
     ]
    },
    {
     "data": {
      "image/png": "[encoded data removed]",
      "text/plain": [
       "<Figure size 432x288 with 1 Axes>"
      ]
     },
     "metadata": {
      "needs_background": "light"
     },
     "output_type": "display_data"
    }
   ],
   "source": [
    "plt.scatter(x_values, y_values)\n",
    "print(test_dataset.describe())\n",
    "plt.plot(test_labels[['class']], clf.predict(test_dataset[['LA']]))\n",
    "plt.show()"
   ]
  },
  {
   "cell_type": "markdown",
   "metadata": {},
   "source": [
    "## test our model on unseen data"
   ]
  },
  {
   "cell_type": "code",
   "execution_count": 11,
   "metadata": {},
   "outputs": [
    {
     "name": "stdout",
     "output_type": "stream",
     "text": [
      "(4719, 3)\n",
      "         LA       lat      long\n",
      "0  0.000000  12.97999  77.71607\n",
      "1  0.136079  12.97999  77.71607\n",
      "2 -0.106952  12.97999  77.71607\n",
      "3 -0.376104  12.97999  77.71607\n",
      "4  0.437133  12.97999  77.71607\n",
      "(4719, 3)\n",
      "         LA       lat      long\n",
      "0  0.000000  12.97999  77.71607\n",
      "1  0.136079  12.97999  77.71607\n",
      "2 -0.106952  12.97999  77.71607\n",
      "3 -0.376104  12.97999  77.71607\n",
      "4  0.437133  12.97999  77.71607\n",
      "                LA\n",
      "count  4719.000000\n",
      "mean      0.023636\n",
      "std       0.504304\n",
      "min      -4.084384\n",
      "25%      -0.135573\n",
      "50%       0.005749\n",
      "75%       0.176612\n",
      "max       4.292345\n",
      "(564, 3)\n",
      "        lat      long        LA\n",
      "0  12.97993  77.71602  0.000000\n",
      "1  12.97999  77.71607 -0.076532\n",
      "2  12.98004  77.71627  0.133717\n",
      "3  12.98004  77.71628 -0.117980\n",
      "4  12.98102  77.71717 -0.363320\n",
      "               LA\n",
      "count  564.000000\n",
      "mean    -0.000069\n",
      "std      0.226567\n",
      "min     -1.125301\n",
      "25%     -0.121522\n",
      "50%     -0.000782\n",
      "75%      0.112370\n",
      "max      1.029215\n"
     ]
    }
   ],
   "source": [
    "#first read the unseen data\n",
    "unseendf = pd.read_csv('innvent/reading.txt',float_precision='round_trip', usecols=[0,1,2], names=['LA','lat','long'], header=None)\n",
    "unseendf = transform_latlong(unseendf, PRECISION_DECIMAL)\n",
    "\n",
    "print(unseendf.shape)\n",
    "print(unseendf.head())\n",
    "\n",
    "print(unseendf.shape)\n",
    "print(unseendf.head())\n",
    "print(unseendf.describe())\n",
    "unseendf = unseendf.groupby(['lat','long'], as_index=False)['LA'].mean()\n",
    "unseendf['LA'] = unseendf['LA'].diff()\n",
    "unseendf['LA'].fillna(0, inplace=True)\n",
    "\n",
    "print(unseendf.shape)\n",
    "print(unseendf.head())\n",
    "print(unseendf.describe())"
   ]
  },
  {
   "cell_type": "markdown",
   "metadata": {},
   "source": [
    "## predict ML values"
   ]
  },
  {
   "cell_type": "code",
   "execution_count": 12,
   "metadata": {},
   "outputs": [
    {
     "name": "stdout",
     "output_type": "stream",
     "text": [
      "(564, 3)\n",
      "        lat      long        LA\n",
      "0  12.97993  77.71602  0.000000\n",
      "1  12.97999  77.71607 -0.076532\n",
      "2  12.98004  77.71627  0.133717\n",
      "3  12.98004  77.71628 -0.117980\n",
      "4  12.98102  77.71717 -0.363320\n",
      "               LA\n",
      "count  564.000000\n",
      "mean    -0.000069\n",
      "std      0.226567\n",
      "min     -1.125301\n",
      "25%     -0.121522\n",
      "50%     -0.000782\n",
      "75%      0.112370\n",
      "max      1.029215\n"
     ]
    }
   ],
   "source": [
    "unseen_predict =  clf.predict(unseendf[['LA']])\n",
    "# unseendf['class'] =unseen_predict\n",
    "print(unseendf.shape)\n",
    "print(unseendf.head())\n",
    "print(unseendf.describe())\n",
    "# print(unseendf.groupby('class').size())"
   ]
  },
  {
   "cell_type": "markdown",
   "metadata": {},
   "source": [
    "## measure our model against true value"
   ]
  },
  {
   "cell_type": "code",
   "execution_count": 13,
   "metadata": {},
   "outputs": [
    {
     "name": "stdout",
     "output_type": "stream",
     "text": [
      "(37, 3)\n",
      "        lat      long  class\n",
      "0  12.97993  77.71602      1\n",
      "1  12.98004  77.71628      1\n",
      "2  12.98004  77.71628      1\n",
      "3  12.98004  77.71628      1\n",
      "4   12.9821  77.71743      1\n",
      "(566, 4)\n",
      "        lat      long        LA  class\n",
      "0  12.97993  77.71602  0.000000    1.0\n",
      "1  12.97999  77.71607 -0.076532    0.0\n",
      "2  12.98004  77.71627  0.133717    0.0\n",
      "3  12.98004  77.71628 -0.117980    1.0\n",
      "4  12.98004  77.71628 -0.117980    1.0\n",
      "               LA       class\n",
      "count  566.000000  566.000000\n",
      "mean    -0.000485    0.056537\n",
      "std      0.226274    0.231160\n",
      "min     -1.125301    0.000000\n",
      "25%     -0.121079    0.000000\n",
      "50%     -0.000899    0.000000\n",
      "75%      0.111878    0.000000\n",
      "max      1.029215    1.000000\n",
      "(32, 4)\n",
      "        lat      long        LA  class\n",
      "0  12.97993  77.71602  0.000000      1\n",
      "1  12.98004  77.71628 -0.117980      1\n",
      "2  12.98004  77.71628 -0.117980      1\n",
      "3  12.98004  77.71628 -0.117980      1\n",
      "4  12.98267  77.71789 -0.444705      1\n",
      "              LA  class\n",
      "count  32.000000   32.0\n",
      "mean   -0.087728    1.0\n",
      "std     0.301346    0.0\n",
      "min    -0.831993    1.0\n",
      "25%    -0.345238    1.0\n",
      "50%    -0.074346    1.0\n",
      "75%     0.050659    1.0\n",
      "max     0.792978    1.0\n"
     ]
    }
   ],
   "source": [
    "potholedf = pd.read_csv('innvent/gps.txt', float_precision='round_trip',usecols=[0,1], names=['lat','long'], header=None)\n",
    "potholedf['class']=1\n",
    "potholedf = transform_latlong(potholedf, PRECISION_DECIMAL)\n",
    "\n",
    "potholedf.groupby(['lat','long'], as_index=False)\n",
    "print(potholedf.shape)\n",
    "print(potholedf.head())\n",
    "\n",
    "mynewdf = pd.merge(unseendf, potholedf, on=['lat','long'], how='left')\n",
    "\n",
    "mynewdf['class'].fillna(0, inplace=True)\n",
    "print(mynewdf.shape)\n",
    "print(mynewdf.head())\n",
    "print(mynewdf.describe())\n",
    "# mydf=resultdf.loc[resultdf['class'] == 1.0]\n",
    "\n",
    "testdf = pd.merge(unseendf, potholedf, how='inner', left_on=['lat','long'], right_on=['lat','long'])\n",
    "print(testdf.shape)\n",
    "print(testdf.head())\n",
    "print(testdf.describe())\n"
   ]
  },
  {
   "cell_type": "markdown",
   "metadata": {},
   "source": [
    "## predict clf score"
   ]
  },
  {
   "cell_type": "code",
   "execution_count": 14,
   "metadata": {},
   "outputs": [
    {
     "name": "stdout",
     "output_type": "stream",
     "text": [
      "0.8197879858657244\n",
      "[[460  74]\n",
      " [ 28   4]]\n"
     ]
    }
   ],
   "source": [
    "x_values = mynewdf[['LA']]\n",
    "y_values = mynewdf[['class']]\n",
    "\n",
    "y_pred =  clf.predict(x_values)\n",
    "print(clf.score(x_values, y_values))\n",
    "cm = confusion_matrix(y_values, y_pred)\n",
    "print(cm)"
   ]
  },
  {
   "cell_type": "markdown",
   "metadata": {},
   "source": [
    "   ## export model coefficients"
   ]
  },
  {
   "cell_type": "code",
   "execution_count": 15,
   "metadata": {},
   "outputs": [
    {
     "name": "stdout",
     "output_type": "stream",
     "text": [
      "[[2.18447212]]\n",
      "[-0.44742997]\n"
     ]
    }
   ],
   "source": [
    "A = clf.coef_\n",
    "B =clf.intercept_\n",
    "print(A)\n",
    "print(B)"
   ]
  },
  {
   "cell_type": "raw",
   "metadata": {},
   "source": [
    "probability=1/(1+exp(-(B+(A*x))))\n",
    "x is difference of Linear Acceleration from previous value"
   ]
  },
  {
   "cell_type": "markdown",
   "metadata": {},
   "source": [
    "## Using SVM"
   ]
  },
  {
   "cell_type": "code",
   "execution_count": 16,
   "metadata": {},
   "outputs": [
    {
     "name": "stderr",
     "output_type": "stream",
     "text": [
      "C:\\Users\\i341494\\AppData\\Local\\Continuum\\anaconda3\\lib\\site-packages\\sklearn\\utils\\validation.py:761: DataConversionWarning: A column-vector y was passed when a 1d array was expected. Please change the shape of y to (n_samples, ), for example using ravel().\n",
      "  y = column_or_1d(y, warn=True)\n",
      "C:\\Users\\i341494\\AppData\\Local\\Continuum\\anaconda3\\lib\\site-packages\\sklearn\\svm\\base.py:196: FutureWarning: The default value of gamma will change from 'auto' to 'scale' in version 0.22 to account better for unscaled features. Set gamma explicitly to 'auto' or 'scale' to avoid this warning.\n",
      "  \"avoid this warning.\", FutureWarning)\n"
     ]
    },
    {
     "data": {
      "text/plain": [
       "SVC(C=1.0, cache_size=200, class_weight=None, coef0=0.0,\n",
       "  decision_function_shape='ovr', degree=3, gamma='auto_deprecated',\n",
       "  kernel='rbf', max_iter=-1, probability=False, random_state=None,\n",
       "  shrinking=True, tol=0.001, verbose=False)"
      ]
     },
     "execution_count": 16,
     "metadata": {},
     "output_type": "execute_result"
    }
   ],
   "source": [
    "# import support vector classifier \n",
    "from sklearn.svm import SVC # \"Support Vector Classifier\" \n",
    "clf_svm = SVC(kernel='rbf') \n",
    "\n",
    "# fitting x samples and y classes \n",
    "clf_svm.fit(train_dataset[['LA']], train_labels[['class']]) \n"
   ]
  },
  {
   "cell_type": "markdown",
   "metadata": {},
   "source": [
    "## testing SVM model values"
   ]
  },
  {
   "cell_type": "code",
   "execution_count": 17,
   "metadata": {},
   "outputs": [
    {
     "name": "stdout",
     "output_type": "stream",
     "text": [
      "0.9434628975265018\n",
      "[[534   0]\n",
      " [ 32   0]]\n"
     ]
    }
   ],
   "source": [
    "y_pred =  clf_svm.predict(x_values)\n",
    "print(clf_svm.score(x_values, y_values))\n",
    "cm = confusion_matrix(y_values, y_pred)\n",
    "print(cm)"
   ]
  },
  {
   "cell_type": "code",
   "execution_count": 34,
   "metadata": {},
   "outputs": [
    {
     "data": {
      "image/png": "[encoded data removed]",
      "text/plain": [
       "<Figure size 432x288 with 1 Axes>"
      ]
     },
     "metadata": {
      "needs_background": "light"
     },
     "output_type": "display_data"
    }
   ],
   "source": [
    "# resultdf.info()\n",
    "\n",
    "import matplotlib.pyplot as plt\n",
    "unseendf['long'] = unseendf['long'].astype(float)\n",
    "unseendf['lat'] = unseendf['lat'].astype(float)\n",
    "plt.scatter(x=unseendf['long'],y=unseendf['lat'], alpha=0.1,c='b')\n",
    "\n",
    "\n",
    "potholedf['long'] = potholedf['long'].astype(float)\n",
    "potholedf['lat'] = potholedf['lat'].astype(float)\n",
    "plt.scatter(x=potholedf['long'],y=potholedf['lat'], alpha=0.5,c='r')\n",
    "plt.show()"
   ]
  },
  {
   "cell_type": "code",
   "execution_count": null,
   "metadata": {},
   "outputs": [],
   "source": []
  }
 ],
 "metadata": {
  "kernelspec": {
   "display_name": "Python 3",
   "language": "python",
   "name": "python3"
  },
  "language_info": {
   "codemirror_mode": {
    "name": "ipython",
    "version": 3
   },
   "file_extension": ".py",
   "mimetype": "text/x-python",
   "name": "python",
   "nbconvert_exporter": "python",
   "pygments_lexer": "ipython3",
   "version": "3.7.1"
  }
 },
 "nbformat": 4,
 "nbformat_minor": 2
}
